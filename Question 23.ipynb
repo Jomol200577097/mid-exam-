{
 "cells": [
  {
   "cell_type": "code",
   "execution_count": 17,
   "id": "c31048d2",
   "metadata": {},
   "outputs": [],
   "source": [
    "class EmptyQueueError(Exception):     \n",
    "    pass\n",
    "\n",
    "class FullQueueError(Exception):\n",
    "    pass\n",
    "\n",
    "class InsufficientElementsInQueueError(Exception):\n",
    "    pass\n",
    "\n",
    "class Queue:\n",
    "    'a classic queue class with a maximum size of 4'\n",
    "\n",
    "    def __init__(self):\n",
    "        'instantiates an empty list'\n",
    "        self.q = []\n",
    "\n",
    "    def isEmpty(self):\n",
    "        'returns True if queue is empty, False otherwise'\n",
    "        return len(self.q) == 0\n",
    "    \n",
    "    def isFull(self):\n",
    "        'returns True if queue is full, False otherwise'\n",
    "        return len(self.q) == 4\n",
    "    \n",
    "    def enqueue(self, item):\n",
    "        'inserts item at rear of queue, raises FullQueueError if queue is full'\n",
    "        if self.isFull():\n",
    "            raise FullQueueError('enqueue to full queue')\n",
    "        self.q.append(item)\n",
    "    \n",
    "    def dequeue(self):\n",
    "        'remove and return item at front of queue, raises EmptyQueueError if queue is empty'\n",
    "        if self.isEmpty():\n",
    "            raise EmptyQueueError('dequeue from empty queue')\n",
    "        return self.q.pop(0)\n",
    "\n",
    "    def dequeueMultiple(self, n):\n",
    "        'removes and returns the first n elements from the queue, raises InsufficientElementsInQueueError if fewer than n elements'\n",
    "        if len(self.q) < n:\n",
    "            raise InsufficientElementsInQueueError('insufficient elements in queue for dequeueMultiple')\n",
    "        return [self.q.pop(0) for _ in range(n)]\n",
    "\n",
    "    def __add__(self, other):\n",
    "        'concatenates two queues, raises FullQueueError if resultant queue exceeds maximum size'\n",
    "        if len(self.q) + len(other.q) > 4:\n",
    "            raise FullQueueError('resultant queue exceeds maximum size')\n",
    "        new_queue = Queue()\n",
    "        new_queue.q = self.q + other.q\n",
    "        return new_queue\n"
   ]
  },
  {
   "cell_type": "code",
   "execution_count": null,
   "id": "4b528e95",
   "metadata": {},
   "outputs": [],
   "source": []
  }
 ],
 "metadata": {
  "kernelspec": {
   "display_name": "Python 3 (ipykernel)",
   "language": "python",
   "name": "python3"
  },
  "language_info": {
   "codemirror_mode": {
    "name": "ipython",
    "version": 3
   },
   "file_extension": ".py",
   "mimetype": "text/x-python",
   "name": "python",
   "nbconvert_exporter": "python",
   "pygments_lexer": "ipython3",
   "version": "3.11.5"
  }
 },
 "nbformat": 4,
 "nbformat_minor": 5
}
