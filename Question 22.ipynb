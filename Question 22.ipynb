{
 "cells": [
  {
   "cell_type": "code",
   "execution_count": 1,
   "id": "97cb78f5",
   "metadata": {},
   "outputs": [
    {
     "name": "stdout",
     "output_type": "stream",
     "text": [
      "Collecting ipython-sql\n",
      "  Obtaining dependency information for ipython-sql from https://files.pythonhosted.org/packages/30/8f/9e50fa53ffc371483f9d1b90c1175b706d28a2e978e90a8894035af01905/ipython_sql-0.5.0-py3-none-any.whl.metadata\n",
      "  Downloading ipython_sql-0.5.0-py3-none-any.whl.metadata (17 kB)\n",
      "Collecting prettytable (from ipython-sql)\n",
      "  Obtaining dependency information for prettytable from https://files.pythonhosted.org/packages/3d/c4/a32f4bf44faf95accbbd5d7864ddef9e289749a8efbc3adaad4a4671779a/prettytable-3.10.0-py3-none-any.whl.metadata\n",
      "  Downloading prettytable-3.10.0-py3-none-any.whl.metadata (30 kB)\n",
      "Requirement already satisfied: ipython in c:\\users\\jomol\\anaconda3\\lib\\site-packages (from ipython-sql) (8.15.0)\n",
      "Collecting sqlalchemy>=2.0 (from ipython-sql)\n",
      "  Obtaining dependency information for sqlalchemy>=2.0 from https://files.pythonhosted.org/packages/4b/f8/c1fe26782e875a952f1bad265034185dbd888f6c55d4bb5f0f515e172b8d/SQLAlchemy-2.0.28-cp311-cp311-win_amd64.whl.metadata\n",
      "  Downloading SQLAlchemy-2.0.28-cp311-cp311-win_amd64.whl.metadata (9.8 kB)\n",
      "Collecting sqlparse (from ipython-sql)\n",
      "  Obtaining dependency information for sqlparse from https://files.pythonhosted.org/packages/98/5a/66d7c9305baa9f11857f247d4ba761402cea75db6058ff850ed7128957b7/sqlparse-0.4.4-py3-none-any.whl.metadata\n",
      "  Downloading sqlparse-0.4.4-py3-none-any.whl.metadata (4.0 kB)\n",
      "Requirement already satisfied: six in c:\\users\\jomol\\anaconda3\\lib\\site-packages (from ipython-sql) (1.16.0)\n",
      "Requirement already satisfied: ipython-genutils in c:\\users\\jomol\\anaconda3\\lib\\site-packages (from ipython-sql) (0.2.0)\n",
      "Requirement already satisfied: typing-extensions>=4.6.0 in c:\\users\\jomol\\anaconda3\\lib\\site-packages (from sqlalchemy>=2.0->ipython-sql) (4.7.1)\n",
      "Requirement already satisfied: greenlet!=0.4.17 in c:\\users\\jomol\\anaconda3\\lib\\site-packages (from sqlalchemy>=2.0->ipython-sql) (2.0.1)\n",
      "Requirement already satisfied: backcall in c:\\users\\jomol\\anaconda3\\lib\\site-packages (from ipython->ipython-sql) (0.2.0)\n",
      "Requirement already satisfied: decorator in c:\\users\\jomol\\anaconda3\\lib\\site-packages (from ipython->ipython-sql) (5.1.1)\n",
      "Requirement already satisfied: jedi>=0.16 in c:\\users\\jomol\\anaconda3\\lib\\site-packages (from ipython->ipython-sql) (0.18.1)\n",
      "Requirement already satisfied: matplotlib-inline in c:\\users\\jomol\\anaconda3\\lib\\site-packages (from ipython->ipython-sql) (0.1.6)\n",
      "Requirement already satisfied: pickleshare in c:\\users\\jomol\\anaconda3\\lib\\site-packages (from ipython->ipython-sql) (0.7.5)\n",
      "Requirement already satisfied: prompt-toolkit!=3.0.37,<3.1.0,>=3.0.30 in c:\\users\\jomol\\anaconda3\\lib\\site-packages (from ipython->ipython-sql) (3.0.36)\n",
      "Requirement already satisfied: pygments>=2.4.0 in c:\\users\\jomol\\anaconda3\\lib\\site-packages (from ipython->ipython-sql) (2.15.1)\n",
      "Requirement already satisfied: stack-data in c:\\users\\jomol\\anaconda3\\lib\\site-packages (from ipython->ipython-sql) (0.2.0)\n",
      "Requirement already satisfied: traitlets>=5 in c:\\users\\jomol\\anaconda3\\lib\\site-packages (from ipython->ipython-sql) (5.7.1)\n",
      "Requirement already satisfied: colorama in c:\\users\\jomol\\anaconda3\\lib\\site-packages (from ipython->ipython-sql) (0.4.6)\n",
      "Requirement already satisfied: wcwidth in c:\\users\\jomol\\anaconda3\\lib\\site-packages (from prettytable->ipython-sql) (0.2.5)\n",
      "Requirement already satisfied: parso<0.9.0,>=0.8.0 in c:\\users\\jomol\\anaconda3\\lib\\site-packages (from jedi>=0.16->ipython->ipython-sql) (0.8.3)\n",
      "Requirement already satisfied: executing in c:\\users\\jomol\\anaconda3\\lib\\site-packages (from stack-data->ipython->ipython-sql) (0.8.3)\n",
      "Requirement already satisfied: asttokens in c:\\users\\jomol\\anaconda3\\lib\\site-packages (from stack-data->ipython->ipython-sql) (2.0.5)\n",
      "Requirement already satisfied: pure-eval in c:\\users\\jomol\\anaconda3\\lib\\site-packages (from stack-data->ipython->ipython-sql) (0.2.2)\n",
      "Downloading ipython_sql-0.5.0-py3-none-any.whl (20 kB)\n",
      "Downloading SQLAlchemy-2.0.28-cp311-cp311-win_amd64.whl (2.1 MB)\n",
      "   ---------------------------------------- 0.0/2.1 MB ? eta -:--:--\n",
      "   ---------------------------------------- 0.0/2.1 MB ? eta -:--:--\n",
      "   ---------------------------------------- 0.0/2.1 MB ? eta -:--:--\n",
      "    --------------------------------------- 0.0/2.1 MB 435.7 kB/s eta 0:00:05\n",
      "    --------------------------------------- 0.0/2.1 MB 326.8 kB/s eta 0:00:07\n",
      "   - -------------------------------------- 0.1/2.1 MB 357.2 kB/s eta 0:00:06\n",
      "   - -------------------------------------- 0.1/2.1 MB 374.1 kB/s eta 0:00:06\n",
      "   -- ------------------------------------- 0.1/2.1 MB 409.6 kB/s eta 0:00:05\n",
      "   -- ------------------------------------- 0.2/2.1 MB 459.5 kB/s eta 0:00:05\n",
      "   --- ------------------------------------ 0.2/2.1 MB 518.8 kB/s eta 0:00:04\n",
      "   ---- ----------------------------------- 0.3/2.1 MB 605.3 kB/s eta 0:00:04\n",
      "   ------ --------------------------------- 0.3/2.1 MB 655.0 kB/s eta 0:00:03\n",
      "   ------- -------------------------------- 0.4/2.1 MB 716.8 kB/s eta 0:00:03\n",
      "   ------- -------------------------------- 0.4/2.1 MB 710.6 kB/s eta 0:00:03\n",
      "   -------- ------------------------------- 0.5/2.1 MB 758.5 kB/s eta 0:00:03\n",
      "   --------- ------------------------------ 0.5/2.1 MB 784.0 kB/s eta 0:00:02\n",
      "   ---------- ----------------------------- 0.5/2.1 MB 792.4 kB/s eta 0:00:02\n",
      "   ---------- ----------------------------- 0.6/2.1 MB 753.4 kB/s eta 0:00:03\n",
      "   ----------- ---------------------------- 0.6/2.1 MB 747.3 kB/s eta 0:00:02\n",
      "   ------------ --------------------------- 0.6/2.1 MB 766.8 kB/s eta 0:00:02\n",
      "   ------------ --------------------------- 0.7/2.1 MB 762.9 kB/s eta 0:00:02\n",
      "   ------------- -------------------------- 0.7/2.1 MB 759.4 kB/s eta 0:00:02\n",
      "   ------------- -------------------------- 0.7/2.1 MB 718.6 kB/s eta 0:00:02\n",
      "   ------------- -------------------------- 0.7/2.1 MB 696.1 kB/s eta 0:00:02\n",
      "   -------------- ------------------------- 0.7/2.1 MB 684.6 kB/s eta 0:00:02\n",
      "   -------------- ------------------------- 0.7/2.1 MB 673.9 kB/s eta 0:00:02\n",
      "   --------------- ------------------------ 0.8/2.1 MB 682.7 kB/s eta 0:00:02\n",
      "   --------------- ------------------------ 0.8/2.1 MB 672.5 kB/s eta 0:00:02\n",
      "   ---------------- ----------------------- 0.8/2.1 MB 671.7 kB/s eta 0:00:02\n",
      "   ---------------- ----------------------- 0.8/2.1 MB 671.7 kB/s eta 0:00:02\n",
      "   ---------------- ----------------------- 0.8/2.1 MB 671.7 kB/s eta 0:00:02\n",
      "   ---------------- ----------------------- 0.9/2.1 MB 618.8 kB/s eta 0:00:02\n",
      "   ---------------- ----------------------- 0.9/2.1 MB 618.8 kB/s eta 0:00:02\n",
      "   ---------------- ----------------------- 0.9/2.1 MB 586.5 kB/s eta 0:00:03\n",
      "   ---------------- ----------------------- 0.9/2.1 MB 586.5 kB/s eta 0:00:03\n",
      "   ----------------- ---------------------- 0.9/2.1 MB 571.1 kB/s eta 0:00:03\n",
      "   ----------------- ---------------------- 0.9/2.1 MB 572.8 kB/s eta 0:00:02\n",
      "   ------------------ --------------------- 1.0/2.1 MB 574.4 kB/s eta 0:00:02\n",
      "   ------------------ --------------------- 1.0/2.1 MB 564.5 kB/s eta 0:00:02\n",
      "   ------------------- -------------------- 1.0/2.1 MB 557.0 kB/s eta 0:00:02\n",
      "   ------------------- -------------------- 1.0/2.1 MB 553.8 kB/s eta 0:00:02\n",
      "   ------------------- -------------------- 1.0/2.1 MB 555.3 kB/s eta 0:00:02\n",
      "   ------------------- -------------------- 1.0/2.1 MB 555.3 kB/s eta 0:00:02\n",
      "   ------------------- -------------------- 1.0/2.1 MB 555.3 kB/s eta 0:00:02\n",
      "   -------------------- ------------------- 1.1/2.1 MB 527.4 kB/s eta 0:00:02\n",
      "   -------------------- ------------------- 1.1/2.1 MB 520.3 kB/s eta 0:00:02\n",
      "   --------------------- ------------------ 1.1/2.1 MB 528.1 kB/s eta 0:00:02\n",
      "   --------------------- ------------------ 1.1/2.1 MB 525.3 kB/s eta 0:00:02\n",
      "   ---------------------- ----------------- 1.2/2.1 MB 528.0 kB/s eta 0:00:02\n",
      "   ----------------------- ---------------- 1.2/2.1 MB 535.3 kB/s eta 0:00:02\n",
      "   ----------------------- ---------------- 1.2/2.1 MB 535.3 kB/s eta 0:00:02\n",
      "   ----------------------- ---------------- 1.2/2.1 MB 521.6 kB/s eta 0:00:02\n",
      "   ----------------------- ---------------- 1.2/2.1 MB 521.6 kB/s eta 0:00:02\n",
      "   ----------------------- ---------------- 1.2/2.1 MB 510.7 kB/s eta 0:00:02\n",
      "   ------------------------ --------------- 1.3/2.1 MB 517.6 kB/s eta 0:00:02\n",
      "   ------------------------- -------------- 1.3/2.1 MB 517.9 kB/s eta 0:00:02\n",
      "   -------------------------- ------------- 1.4/2.1 MB 527.6 kB/s eta 0:00:02\n",
      "   --------------------------- ------------ 1.4/2.1 MB 541.6 kB/s eta 0:00:02\n",
      "   ----------------------------- ---------- 1.5/2.1 MB 566.7 kB/s eta 0:00:01\n",
      "   ------------------------------- -------- 1.7/2.1 MB 609.9 kB/s eta 0:00:01\n",
      "   ----------------------------------- ---- 1.8/2.1 MB 659.1 kB/s eta 0:00:01\n",
      "   ------------------------------------- -- 2.0/2.1 MB 699.3 kB/s eta 0:00:01\n",
      "   ---------------------------------------- 2.1/2.1 MB 725.7 kB/s eta 0:00:00\n",
      "Downloading prettytable-3.10.0-py3-none-any.whl (28 kB)\n",
      "Downloading sqlparse-0.4.4-py3-none-any.whl (41 kB)\n",
      "   ---------------------------------------- 0.0/41.2 kB ? eta -:--:--\n",
      "   ---------------------------------------- 41.2/41.2 kB 1.9 MB/s eta 0:00:00\n",
      "Installing collected packages: sqlparse, sqlalchemy, prettytable, ipython-sql\n",
      "  Attempting uninstall: sqlalchemy\n",
      "    Found existing installation: SQLAlchemy 1.4.39\n",
      "    Uninstalling SQLAlchemy-1.4.39:\n",
      "      Successfully uninstalled SQLAlchemy-1.4.39\n",
      "Successfully installed ipython-sql-0.5.0 prettytable-3.10.0 sqlalchemy-2.0.28 sqlparse-0.4.4\n"
     ]
    }
   ],
   "source": [
    "!pip install ipython-sql"
   ]
  },
  {
   "cell_type": "code",
   "execution_count": 2,
   "id": "9bb16e55",
   "metadata": {},
   "outputs": [
    {
     "name": "stdout",
     "output_type": "stream",
     "text": [
      " * sqlite://\n",
      "Done.\n"
     ]
    },
    {
     "data": {
      "text/plain": [
       "[]"
      ]
     },
     "execution_count": 2,
     "metadata": {},
     "output_type": "execute_result"
    }
   ],
   "source": [
    "%load_ext sql\n",
    "\n",
    "# Connect to SQLite database\n",
    "%sql sqlite://\n",
    "\n",
    "# Define your SQL commands as strings\n",
    "create_table_query = \"\"\"\n",
    "CREATE TABLE DessertRankings (\n",
    "    DessertName TEXT,\n",
    "    ThomasRanking INTEGER,\n",
    "    MyRanking INTEGER\n",
    ");\n",
    "\"\"\"\n",
    "\n",
    "# Execute the SQL command to create the table\n",
    "%sql $create_table_query"
   ]
  },
  {
   "cell_type": "code",
   "execution_count": 3,
   "id": "9f6eacb9",
   "metadata": {},
   "outputs": [
    {
     "name": "stdout",
     "output_type": "stream",
     "text": [
      " * sqlite://\n",
      "5 rows affected.\n"
     ]
    },
    {
     "data": {
      "text/plain": [
       "[]"
      ]
     },
     "execution_count": 3,
     "metadata": {},
     "output_type": "execute_result"
    }
   ],
   "source": [
    "%%sql\n",
    "INSERT INTO DessertRankings (DessertName, ThomasRanking, MyRanking) VALUES\n",
    "('Cake', 1, 3),\n",
    "('Brownie', 2, 4),\n",
    "('Ice Cream', 3, 5),\n",
    "('Pie', 4, 2),\n",
    "('Cookies', 5, 1);"
   ]
  },
  {
   "cell_type": "code",
   "execution_count": 4,
   "id": "1142186e",
   "metadata": {},
   "outputs": [
    {
     "name": "stdout",
     "output_type": "stream",
     "text": [
      " * sqlite://\n",
      "Done.\n"
     ]
    },
    {
     "data": {
      "text/html": [
       "<table>\n",
       "    <thead>\n",
       "        <tr>\n",
       "            <th>DessertName</th>\n",
       "            <th>ThomasRanking</th>\n",
       "            <th>MyRanking</th>\n",
       "        </tr>\n",
       "    </thead>\n",
       "    <tbody>\n",
       "        <tr>\n",
       "            <td>Cake</td>\n",
       "            <td>1</td>\n",
       "            <td>3</td>\n",
       "        </tr>\n",
       "        <tr>\n",
       "            <td>Cookies</td>\n",
       "            <td>5</td>\n",
       "            <td>1</td>\n",
       "        </tr>\n",
       "    </tbody>\n",
       "</table>"
      ],
      "text/plain": [
       "[('Cake', 1, 3), ('Cookies', 5, 1)]"
      ]
     },
     "execution_count": 4,
     "metadata": {},
     "output_type": "execute_result"
    }
   ],
   "source": [
    "%sql SELECT DISTINCT * FROM DessertRankings WHERE ThomasRanking = 1 OR MyRanking = 1;"
   ]
  },
  {
   "cell_type": "code",
   "execution_count": 5,
   "id": "8e620448",
   "metadata": {},
   "outputs": [
    {
     "name": "stdout",
     "output_type": "stream",
     "text": [
      " * sqlite://\n",
      "Done.\n"
     ]
    },
    {
     "data": {
      "text/html": [
       "<table>\n",
       "    <thead>\n",
       "        <tr>\n",
       "            <th>DessertName</th>\n",
       "            <th>ThomasRanking</th>\n",
       "            <th>MyRanking</th>\n",
       "        </tr>\n",
       "    </thead>\n",
       "    <tbody>\n",
       "        <tr>\n",
       "            <td>Cookies</td>\n",
       "            <td>5</td>\n",
       "            <td>1</td>\n",
       "        </tr>\n",
       "        <tr>\n",
       "            <td>Pie</td>\n",
       "            <td>4</td>\n",
       "            <td>2</td>\n",
       "        </tr>\n",
       "        <tr>\n",
       "            <td>Cake</td>\n",
       "            <td>1</td>\n",
       "            <td>3</td>\n",
       "        </tr>\n",
       "        <tr>\n",
       "            <td>Brownie</td>\n",
       "            <td>2</td>\n",
       "            <td>4</td>\n",
       "        </tr>\n",
       "        <tr>\n",
       "            <td>Ice Cream</td>\n",
       "            <td>3</td>\n",
       "            <td>5</td>\n",
       "        </tr>\n",
       "    </tbody>\n",
       "</table>"
      ],
      "text/plain": [
       "[('Cookies', 5, 1),\n",
       " ('Pie', 4, 2),\n",
       " ('Cake', 1, 3),\n",
       " ('Brownie', 2, 4),\n",
       " ('Ice Cream', 3, 5)]"
      ]
     },
     "execution_count": 5,
     "metadata": {},
     "output_type": "execute_result"
    }
   ],
   "source": [
    "%sql SELECT DISTINCT * FROM DessertRankings ORDER BY MyRanking ASC;"
   ]
  },
  {
   "cell_type": "code",
   "execution_count": null,
   "id": "c95ae8e9",
   "metadata": {},
   "outputs": [],
   "source": []
  }
 ],
 "metadata": {
  "kernelspec": {
   "display_name": "Python 3 (ipykernel)",
   "language": "python",
   "name": "python3"
  },
  "language_info": {
   "codemirror_mode": {
    "name": "ipython",
    "version": 3
   },
   "file_extension": ".py",
   "mimetype": "text/x-python",
   "name": "python",
   "nbconvert_exporter": "python",
   "pygments_lexer": "ipython3",
   "version": "3.11.5"
  }
 },
 "nbformat": 4,
 "nbformat_minor": 5
}
