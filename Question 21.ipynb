{
 "cells": [
  {
   "cell_type": "code",
   "execution_count": 10,
   "id": "602769a2",
   "metadata": {},
   "outputs": [
    {
     "name": "stdout",
     "output_type": "stream",
     "text": [
      "Qpubup\n",
      "K nqxg DFCV!\n"
     ]
    }
   ],
   "source": [
    "#Question 21\n",
    "\n",
    "def Caesar(phrase, shift):\n",
    "    result = ''\n",
    "    for char in phrase:\n",
    "        if char.isalpha():               # Check if the character is an alphabet letter\n",
    "            shifted = ord(char) + shift  # Shift the character in ASCII\n",
    "            if char.islower():\n",
    "                if shifted > ord('z'):\n",
    "                    shifted -= 26        # Wrap around if shifted beyond 'z'\n",
    "                elif shifted < ord('a'):\n",
    "                    shifted += 26        # Wrap around if shifted before 'a'\n",
    "            elif char.isupper():\n",
    "                if shifted > ord('Z'):\n",
    "                    shifted -= 26        # Wrap around if shifted beyond 'Z'\n",
    "                elif shifted < ord('A'):\n",
    "                    shifted += 26        # wrap around if shifted before 'A'\n",
    "            result += chr(shifted)\n",
    "        else:\n",
    "            result += char              # Keep non-alphabetic characters unchanged\n",
    "    return result\n",
    "\n",
    "# Test cases\n",
    "print(Caesar(\"Potato\", 1))              \n",
    "print(Caesar(\"I love BDAT!\", 2))        \n"
   ]
  },
  {
   "cell_type": "code",
   "execution_count": null,
   "id": "d65c5d09",
   "metadata": {},
   "outputs": [],
   "source": []
  },
  {
   "cell_type": "code",
   "execution_count": null,
   "id": "87eab539",
   "metadata": {},
   "outputs": [],
   "source": []
  }
 ],
 "metadata": {
  "kernelspec": {
   "display_name": "Python 3 (ipykernel)",
   "language": "python",
   "name": "python3"
  },
  "language_info": {
   "codemirror_mode": {
    "name": "ipython",
    "version": 3
   },
   "file_extension": ".py",
   "mimetype": "text/x-python",
   "name": "python",
   "nbconvert_exporter": "python",
   "pygments_lexer": "ipython3",
   "version": "3.11.5"
  }
 },
 "nbformat": 4,
 "nbformat_minor": 5
}
